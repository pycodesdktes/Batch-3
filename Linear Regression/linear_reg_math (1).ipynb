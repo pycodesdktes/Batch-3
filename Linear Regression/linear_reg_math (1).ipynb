{
 "cells": [
  {
   "cell_type": "code",
   "execution_count": 2,
   "id": "95ae622c",
   "metadata": {},
   "outputs": [],
   "source": [
    "import numpy as np\n",
    "import matplotlib.pyplot as plt\n",
    "import pandas as pd"
   ]
  },
  {
   "cell_type": "markdown",
   "id": "c19bbef5",
   "metadata": {},
   "source": [
    "# By formula"
   ]
  },
  {
   "cell_type": "code",
   "execution_count": 3,
   "id": "a2793d05",
   "metadata": {},
   "outputs": [],
   "source": [
    "#x = np.array([1,2,3,4,5,6,7,8,9])\n",
    "#y = np.array([1.2, 2.3, 3.4, 5.5, 6.6, 7.7, 8.015, 8.85, 9.57])"
   ]
  },
  {
   "cell_type": "code",
   "execution_count": 4,
   "id": "947fda09",
   "metadata": {},
   "outputs": [
    {
     "data": {
      "text/html": [
       "<div>\n",
       "<style scoped>\n",
       "    .dataframe tbody tr th:only-of-type {\n",
       "        vertical-align: middle;\n",
       "    }\n",
       "\n",
       "    .dataframe tbody tr th {\n",
       "        vertical-align: top;\n",
       "    }\n",
       "\n",
       "    .dataframe thead th {\n",
       "        text-align: right;\n",
       "    }\n",
       "</style>\n",
       "<table border=\"1\" class=\"dataframe\">\n",
       "  <thead>\n",
       "    <tr style=\"text-align: right;\">\n",
       "      <th></th>\n",
       "      <th>X</th>\n",
       "      <th>Y</th>\n",
       "    </tr>\n",
       "  </thead>\n",
       "  <tbody>\n",
       "    <tr>\n",
       "      <th>0</th>\n",
       "      <td>1</td>\n",
       "      <td>1.01</td>\n",
       "    </tr>\n",
       "    <tr>\n",
       "      <th>1</th>\n",
       "      <td>2</td>\n",
       "      <td>2.10</td>\n",
       "    </tr>\n",
       "    <tr>\n",
       "      <th>2</th>\n",
       "      <td>3</td>\n",
       "      <td>4.10</td>\n",
       "    </tr>\n",
       "    <tr>\n",
       "      <th>3</th>\n",
       "      <td>4</td>\n",
       "      <td>2.00</td>\n",
       "    </tr>\n",
       "    <tr>\n",
       "      <th>4</th>\n",
       "      <td>5</td>\n",
       "      <td>5.10</td>\n",
       "    </tr>\n",
       "    <tr>\n",
       "      <th>5</th>\n",
       "      <td>6</td>\n",
       "      <td>6.00</td>\n",
       "    </tr>\n",
       "    <tr>\n",
       "      <th>6</th>\n",
       "      <td>7</td>\n",
       "      <td>8.30</td>\n",
       "    </tr>\n",
       "    <tr>\n",
       "      <th>7</th>\n",
       "      <td>8</td>\n",
       "      <td>8.45</td>\n",
       "    </tr>\n",
       "    <tr>\n",
       "      <th>8</th>\n",
       "      <td>9</td>\n",
       "      <td>9.10</td>\n",
       "    </tr>\n",
       "    <tr>\n",
       "      <th>9</th>\n",
       "      <td>10</td>\n",
       "      <td>11.00</td>\n",
       "    </tr>\n",
       "    <tr>\n",
       "      <th>10</th>\n",
       "      <td>11</td>\n",
       "      <td>11.10</td>\n",
       "    </tr>\n",
       "    <tr>\n",
       "      <th>11</th>\n",
       "      <td>12</td>\n",
       "      <td>11.60</td>\n",
       "    </tr>\n",
       "    <tr>\n",
       "      <th>12</th>\n",
       "      <td>13</td>\n",
       "      <td>13.01</td>\n",
       "    </tr>\n",
       "    <tr>\n",
       "      <th>13</th>\n",
       "      <td>14</td>\n",
       "      <td>12.90</td>\n",
       "    </tr>\n",
       "    <tr>\n",
       "      <th>14</th>\n",
       "      <td>15</td>\n",
       "      <td>15.20</td>\n",
       "    </tr>\n",
       "    <tr>\n",
       "      <th>15</th>\n",
       "      <td>16</td>\n",
       "      <td>15.00</td>\n",
       "    </tr>\n",
       "    <tr>\n",
       "      <th>16</th>\n",
       "      <td>17</td>\n",
       "      <td>17.10</td>\n",
       "    </tr>\n",
       "    <tr>\n",
       "      <th>17</th>\n",
       "      <td>18</td>\n",
       "      <td>18.00</td>\n",
       "    </tr>\n",
       "    <tr>\n",
       "      <th>18</th>\n",
       "      <td>19</td>\n",
       "      <td>18.00</td>\n",
       "    </tr>\n",
       "    <tr>\n",
       "      <th>19</th>\n",
       "      <td>20</td>\n",
       "      <td>20.10</td>\n",
       "    </tr>\n",
       "    <tr>\n",
       "      <th>20</th>\n",
       "      <td>21</td>\n",
       "      <td>19.00</td>\n",
       "    </tr>\n",
       "    <tr>\n",
       "      <th>21</th>\n",
       "      <td>22</td>\n",
       "      <td>24.50</td>\n",
       "    </tr>\n",
       "    <tr>\n",
       "      <th>22</th>\n",
       "      <td>23</td>\n",
       "      <td>23.10</td>\n",
       "    </tr>\n",
       "    <tr>\n",
       "      <th>23</th>\n",
       "      <td>24</td>\n",
       "      <td>21.00</td>\n",
       "    </tr>\n",
       "    <tr>\n",
       "      <th>24</th>\n",
       "      <td>25</td>\n",
       "      <td>25.20</td>\n",
       "    </tr>\n",
       "    <tr>\n",
       "      <th>25</th>\n",
       "      <td>26</td>\n",
       "      <td>22.00</td>\n",
       "    </tr>\n",
       "    <tr>\n",
       "      <th>26</th>\n",
       "      <td>27</td>\n",
       "      <td>27.20</td>\n",
       "    </tr>\n",
       "    <tr>\n",
       "      <th>27</th>\n",
       "      <td>28</td>\n",
       "      <td>29.30</td>\n",
       "    </tr>\n",
       "    <tr>\n",
       "      <th>28</th>\n",
       "      <td>29</td>\n",
       "      <td>29.50</td>\n",
       "    </tr>\n",
       "    <tr>\n",
       "      <th>29</th>\n",
       "      <td>30</td>\n",
       "      <td>30.20</td>\n",
       "    </tr>\n",
       "    <tr>\n",
       "      <th>30</th>\n",
       "      <td>31</td>\n",
       "      <td>23.00</td>\n",
       "    </tr>\n",
       "    <tr>\n",
       "      <th>31</th>\n",
       "      <td>32</td>\n",
       "      <td>32.11</td>\n",
       "    </tr>\n",
       "    <tr>\n",
       "      <th>32</th>\n",
       "      <td>33</td>\n",
       "      <td>33.10</td>\n",
       "    </tr>\n",
       "    <tr>\n",
       "      <th>33</th>\n",
       "      <td>34</td>\n",
       "      <td>34.40</td>\n",
       "    </tr>\n",
       "    <tr>\n",
       "      <th>34</th>\n",
       "      <td>35</td>\n",
       "      <td>35.00</td>\n",
       "    </tr>\n",
       "    <tr>\n",
       "      <th>35</th>\n",
       "      <td>36</td>\n",
       "      <td>36.00</td>\n",
       "    </tr>\n",
       "    <tr>\n",
       "      <th>36</th>\n",
       "      <td>37</td>\n",
       "      <td>37.00</td>\n",
       "    </tr>\n",
       "    <tr>\n",
       "      <th>37</th>\n",
       "      <td>38</td>\n",
       "      <td>38.20</td>\n",
       "    </tr>\n",
       "    <tr>\n",
       "      <th>38</th>\n",
       "      <td>39</td>\n",
       "      <td>39.20</td>\n",
       "    </tr>\n",
       "    <tr>\n",
       "      <th>39</th>\n",
       "      <td>40</td>\n",
       "      <td>40.00</td>\n",
       "    </tr>\n",
       "    <tr>\n",
       "      <th>40</th>\n",
       "      <td>41</td>\n",
       "      <td>41.00</td>\n",
       "    </tr>\n",
       "    <tr>\n",
       "      <th>41</th>\n",
       "      <td>42</td>\n",
       "      <td>41.00</td>\n",
       "    </tr>\n",
       "    <tr>\n",
       "      <th>42</th>\n",
       "      <td>43</td>\n",
       "      <td>43.10</td>\n",
       "    </tr>\n",
       "    <tr>\n",
       "      <th>43</th>\n",
       "      <td>44</td>\n",
       "      <td>44.40</td>\n",
       "    </tr>\n",
       "    <tr>\n",
       "      <th>44</th>\n",
       "      <td>45</td>\n",
       "      <td>50.00</td>\n",
       "    </tr>\n",
       "    <tr>\n",
       "      <th>45</th>\n",
       "      <td>46</td>\n",
       "      <td>46.70</td>\n",
       "    </tr>\n",
       "    <tr>\n",
       "      <th>46</th>\n",
       "      <td>47</td>\n",
       "      <td>35.00</td>\n",
       "    </tr>\n",
       "    <tr>\n",
       "      <th>47</th>\n",
       "      <td>48</td>\n",
       "      <td>46.00</td>\n",
       "    </tr>\n",
       "    <tr>\n",
       "      <th>48</th>\n",
       "      <td>49</td>\n",
       "      <td>46.00</td>\n",
       "    </tr>\n",
       "    <tr>\n",
       "      <th>49</th>\n",
       "      <td>50</td>\n",
       "      <td>48.00</td>\n",
       "    </tr>\n",
       "  </tbody>\n",
       "</table>\n",
       "</div>"
      ],
      "text/plain": [
       "     X      Y\n",
       "0    1   1.01\n",
       "1    2   2.10\n",
       "2    3   4.10\n",
       "3    4   2.00\n",
       "4    5   5.10\n",
       "5    6   6.00\n",
       "6    7   8.30\n",
       "7    8   8.45\n",
       "8    9   9.10\n",
       "9   10  11.00\n",
       "10  11  11.10\n",
       "11  12  11.60\n",
       "12  13  13.01\n",
       "13  14  12.90\n",
       "14  15  15.20\n",
       "15  16  15.00\n",
       "16  17  17.10\n",
       "17  18  18.00\n",
       "18  19  18.00\n",
       "19  20  20.10\n",
       "20  21  19.00\n",
       "21  22  24.50\n",
       "22  23  23.10\n",
       "23  24  21.00\n",
       "24  25  25.20\n",
       "25  26  22.00\n",
       "26  27  27.20\n",
       "27  28  29.30\n",
       "28  29  29.50\n",
       "29  30  30.20\n",
       "30  31  23.00\n",
       "31  32  32.11\n",
       "32  33  33.10\n",
       "33  34  34.40\n",
       "34  35  35.00\n",
       "35  36  36.00\n",
       "36  37  37.00\n",
       "37  38  38.20\n",
       "38  39  39.20\n",
       "39  40  40.00\n",
       "40  41  41.00\n",
       "41  42  41.00\n",
       "42  43  43.10\n",
       "43  44  44.40\n",
       "44  45  50.00\n",
       "45  46  46.70\n",
       "46  47  35.00\n",
       "47  48  46.00\n",
       "48  49  46.00\n",
       "49  50  48.00"
      ]
     },
     "execution_count": 4,
     "metadata": {},
     "output_type": "execute_result"
    }
   ],
   "source": [
    "df=pd.read_csv('Book.csv')\n",
    "df"
   ]
  },
  {
   "cell_type": "code",
   "execution_count": 5,
   "id": "fc34c802",
   "metadata": {},
   "outputs": [
    {
     "data": {
      "text/plain": [
       "Text(0, 0.5, 'Independent variables X')"
      ]
     },
     "execution_count": 5,
     "metadata": {},
     "output_type": "execute_result"
    },
    {
     "data": {
      "image/png": "[encoded data removed]",
      "text/plain": [
       "<Figure size 432x288 with 1 Axes>"
      ]
     },
     "metadata": {
      "needs_background": "light"
     },
     "output_type": "display_data"
    }
   ],
   "source": [
    "plt.scatter(df.X,df.Y,color = 'blue')\n",
    "plt.xlabel(\"Dependent variable Y\")\n",
    "plt.ylabel(\"Independent variables X\")"
   ]
  },
  {
   "cell_type": "code",
   "execution_count": 6,
   "id": "ed212f00",
   "metadata": {},
   "outputs": [
    {
     "data": {
      "text/plain": [
       "25.5"
      ]
     },
     "execution_count": 6,
     "metadata": {},
     "output_type": "execute_result"
    }
   ],
   "source": [
    "#calculation of mean x\n",
    "x_mean = np.mean(df.X)\n",
    "x_mean"
   ]
  },
  {
   "cell_type": "code",
   "execution_count": 7,
   "id": "862a2c7c",
   "metadata": {},
   "outputs": [
    {
     "data": {
      "text/plain": [
       "24.9876"
      ]
     },
     "execution_count": 7,
     "metadata": {},
     "output_type": "execute_result"
    }
   ],
   "source": [
    "#calculation of mean y\n",
    "y_mean = np.mean(df.Y)\n",
    "y_mean"
   ]
  },
  {
   "cell_type": "code",
   "execution_count": 8,
   "id": "5ff70006",
   "metadata": {},
   "outputs": [
    {
     "name": "stdout",
     "output_type": "stream",
     "text": [
      "0.966402881152461\n"
     ]
    }
   ],
   "source": [
    "#calculation of slope (m)\n",
    "slope = 0\n",
    "numSum = 0\n",
    "denSum = 0\n",
    "sqr = 0\n",
    "for i in range(len(df.X)):\n",
    "    a = df.X[i] - x_mean\n",
    "    b = df.Y[i] - y_mean\n",
    "    mul = a * b\n",
    "    numSum += mul\n",
    "    c = df.X[i] - x_mean\n",
    "    sqr = c ** 2\n",
    "    denSum += sqr\n",
    "slope = numSum / denSum\n",
    "print(slope)"
   ]
  },
  {
   "cell_type": "code",
   "execution_count": 9,
   "id": "68152b5f",
   "metadata": {},
   "outputs": [
    {
     "name": "stdout",
     "output_type": "stream",
     "text": [
      "0.3443265306122463\n"
     ]
    }
   ],
   "source": [
    "#calculation of intercept (c)\n",
    "newC = y_mean - (slope * x_mean)\n",
    "print(newC)"
   ]
  },
  {
   "cell_type": "code",
   "execution_count": 10,
   "id": "2fbdff92",
   "metadata": {},
   "outputs": [
    {
     "data": {
      "text/plain": [
       "[1.3107294117647073,\n",
       " 2.2771322929171682,\n",
       " 3.2435351740696294,\n",
       " 4.20993805522209,\n",
       " 5.176340936374551,\n",
       " 6.142743817527013,\n",
       " 7.109146698679473,\n",
       " 8.075549579831934,\n",
       " 9.041952460984396,\n",
       " 10.008355342136856,\n",
       " 10.974758223289317,\n",
       " 11.941161104441779,\n",
       " 12.907563985594239,\n",
       " 13.8739668667467,\n",
       " 14.84036974789916,\n",
       " 15.806772629051622,\n",
       " 16.773175510204084,\n",
       " 17.739578391356545,\n",
       " 18.705981272509003,\n",
       " 19.672384153661465,\n",
       " 20.638787034813927,\n",
       " 21.60518991596639,\n",
       " 22.57159279711885,\n",
       " 23.53799567827131,\n",
       " 24.50439855942377,\n",
       " 25.47080144057623,\n",
       " 26.437204321728693,\n",
       " 27.403607202881155,\n",
       " 28.370010084033616,\n",
       " 29.336412965186074,\n",
       " 30.302815846338536,\n",
       " 31.269218727490998,\n",
       " 32.235621608643456,\n",
       " 33.20202448979592,\n",
       " 34.16842737094838,\n",
       " 35.13483025210084,\n",
       " 36.1012331332533,\n",
       " 37.067636014405764,\n",
       " 38.034038895558226,\n",
       " 39.00044177671069,\n",
       " 39.96684465786315,\n",
       " 40.93324753901561,\n",
       " 41.89965042016807,\n",
       " 42.866053301320534,\n",
       " 43.832456182472995,\n",
       " 44.79885906362546,\n",
       " 45.76526194477792,\n",
       " 46.73166482593038,\n",
       " 47.69806770708283,\n",
       " 48.66447058823529]"
      ]
     },
     "execution_count": 10,
     "metadata": {},
     "output_type": "execute_result"
    }
   ],
   "source": [
    "#calculate predicted value\n",
    "ls = []\n",
    "for i in range(len(df.X)):\n",
    "    y_pred = (df.X[i] * slope) + newC\n",
    "    ls.append(y_pred)\n",
    "ls"
   ]
  },
  {
   "cell_type": "code",
   "execution_count": 11,
   "id": "791f5bb1",
   "metadata": {},
   "outputs": [
    {
     "name": "stdout",
     "output_type": "stream",
     "text": [
      "    Actual  Predicted\n",
      "0     1.01   1.310729\n",
      "1     2.10   2.277132\n",
      "2     4.10   3.243535\n",
      "3     2.00   4.209938\n",
      "4     5.10   5.176341\n",
      "5     6.00   6.142744\n",
      "6     8.30   7.109147\n",
      "7     8.45   8.075550\n",
      "8     9.10   9.041952\n",
      "9    11.00  10.008355\n",
      "10   11.10  10.974758\n",
      "11   11.60  11.941161\n",
      "12   13.01  12.907564\n",
      "13   12.90  13.873967\n",
      "14   15.20  14.840370\n",
      "15   15.00  15.806773\n",
      "16   17.10  16.773176\n",
      "17   18.00  17.739578\n",
      "18   18.00  18.705981\n",
      "19   20.10  19.672384\n",
      "20   19.00  20.638787\n",
      "21   24.50  21.605190\n",
      "22   23.10  22.571593\n",
      "23   21.00  23.537996\n",
      "24   25.20  24.504399\n",
      "25   22.00  25.470801\n",
      "26   27.20  26.437204\n",
      "27   29.30  27.403607\n",
      "28   29.50  28.370010\n",
      "29   30.20  29.336413\n",
      "30   23.00  30.302816\n",
      "31   32.11  31.269219\n",
      "32   33.10  32.235622\n",
      "33   34.40  33.202024\n",
      "34   35.00  34.168427\n",
      "35   36.00  35.134830\n",
      "36   37.00  36.101233\n",
      "37   38.20  37.067636\n",
      "38   39.20  38.034039\n",
      "39   40.00  39.000442\n",
      "40   41.00  39.966845\n",
      "41   41.00  40.933248\n",
      "42   43.10  41.899650\n",
      "43   44.40  42.866053\n",
      "44   50.00  43.832456\n",
      "45   46.70  44.798859\n",
      "46   35.00  45.765262\n",
      "47   46.00  46.731665\n",
      "48   46.00  47.698068\n",
      "49   48.00  48.664471\n"
     ]
    }
   ],
   "source": [
    "#comparison between actual and predicted\n",
    "df_new= pd.DataFrame({'Actual':pd.Series(df.Y), 'Predicted':pd.Series(ls)})\n",
    "print(df_new)"
   ]
  },
  {
   "cell_type": "code",
   "execution_count": 12,
   "id": "c23f4d68",
   "metadata": {},
   "outputs": [
    {
     "data": {
      "text/plain": [
       "Text(0.5, 1.0, 'Graph x vs predicted y')"
      ]
     },
     "execution_count": 12,
     "metadata": {},
     "output_type": "execute_result"
    },
    {
     "data": {
      "image/png": "[encoded data removed]",
      "text/plain": [
       "<Figure size 432x288 with 1 Axes>"
      ]
     },
     "metadata": {
      "needs_background": "light"
     },
     "output_type": "display_data"
    }
   ],
   "source": [
    "plt.scatter(df.X,ls,color = 'red')\n",
    "plt.xlabel(\"Dependent variable Y\")\n",
    "plt.ylabel(\"Independent variables X\")\n",
    "plt.title(\"Graph x vs predicted y\")\n"
   ]
  },
  {
   "cell_type": "code",
   "execution_count": 13,
   "id": "9f73bc35",
   "metadata": {},
   "outputs": [
    {
     "data": {
      "text/plain": [
       "Text(0.5, 1.0, 'Graph Actual  vs precicted ')"
      ]
     },
     "execution_count": 13,
     "metadata": {},
     "output_type": "execute_result"
    },
    {
     "data": {
      "image/png": "[encoded data removed]",
      "text/plain": [
       "<Figure size 432x288 with 1 Axes>"
      ]
     },
     "metadata": {
      "needs_background": "light"
     },
     "output_type": "display_data"
    }
   ],
   "source": [
    "plt.plot(df.X,ls,color = 'red')   #predicted\n",
    "plt.plot(df.X,df.Y,color = 'blue')   #Actual\n",
    "plt.xlabel(\"Dependent variable Y\")\n",
    "plt.ylabel(\"Independent variables X\")\n",
    "plt.title(\"Graph Actual  vs precicted \")"
   ]
  },
  {
   "cell_type": "markdown",
   "id": "405a8760",
   "metadata": {},
   "source": [
    "finding mean square error"
   ]
  },
  {
   "cell_type": "code",
   "execution_count": 14,
   "id": "8b876b25",
   "metadata": {},
   "outputs": [
    {
     "data": {
      "text/plain": [
       "[39.96684465786315,\n",
       " 40.93324753901561,\n",
       " 41.89965042016807,\n",
       " 42.866053301320534,\n",
       " 43.832456182472995,\n",
       " 44.79885906362546,\n",
       " 45.76526194477792,\n",
       " 46.73166482593038,\n",
       " 47.69806770708283,\n",
       " 48.66447058823529]"
      ]
     },
     "execution_count": 14,
     "metadata": {},
     "output_type": "execute_result"
    }
   ],
   "source": [
    "testy= np.array(df.Y[40:])\n",
    "testls = ls[40:]\n",
    "testls"
   ]
  },
  {
   "cell_type": "code",
   "execution_count": 15,
   "id": "9926a90d",
   "metadata": {},
   "outputs": [
    {
     "data": {
      "text/plain": [
       "[1.0331553421368511,\n",
       " 0.06675246098438947,\n",
       " 1.2003495798319292,\n",
       " 1.5339466986794648,\n",
       " 6.1675438175270045,\n",
       " 1.9011409363745457,\n",
       " -10.765261944777919,\n",
       " -0.7316648259303804,\n",
       " -1.6980677070828278,\n",
       " -0.6644705882352895]"
      ]
     },
     "execution_count": 15,
     "metadata": {},
     "output_type": "execute_result"
    }
   ],
   "source": [
    "#mean square error\n",
    "#(y - y')\n",
    "sum1 = 0\n",
    "sume = 0\n",
    "final = []\n",
    "for i in range(len(testy)):\n",
    "    sum1 = testy[i] - testls[i]\n",
    "    final.append(sum1)\n",
    "    \n",
    "    \n",
    "final\n",
    "    "
   ]
  },
  {
   "cell_type": "code",
   "execution_count": 16,
   "id": "f6cb6a57",
   "metadata": {},
   "outputs": [
    {
     "data": {
      "text/plain": [
       "166.26978429895505"
      ]
     },
     "execution_count": 16,
     "metadata": {},
     "output_type": "execute_result"
    }
   ],
   "source": [
    "#(y - y')**2\n",
    "sr=0\n",
    "summ = 0\n",
    "for i in range(len(final)) :\n",
    "    sr = final[i] ** 2\n",
    "    summ += sr\n",
    "    \n",
    "    \n",
    "summ       #Summeshan of (y-y')**2\n"
   ]
  },
  {
   "cell_type": "code",
   "execution_count": 17,
   "id": "0c72673c",
   "metadata": {},
   "outputs": [
    {
     "data": {
      "text/plain": [
       "16.626978429895505"
      ]
     },
     "execution_count": 17,
     "metadata": {},
     "output_type": "execute_result"
    }
   ],
   "source": [
    "#MSE = Sumeshan (y-y')**2\n",
    "       #-----------------\n",
    "       #      N\n",
    "        \n",
    "#where as \n",
    "#N = Number or length of x and Y\n",
    "MSE = summ/(len(final))\n",
    "MSE\n",
    "\n"
   ]
  },
  {
   "cell_type": "markdown",
   "id": "b00c7715",
   "metadata": {},
   "source": [
    "# By using sklearn"
   ]
  },
  {
   "cell_type": "code",
   "execution_count": 18,
   "id": "e14bbd55",
   "metadata": {},
   "outputs": [],
   "source": [
    "from sklearn.linear_model import LinearRegression\n",
    "from sklearn.model_selection import train_test_split"
   ]
  },
  {
   "cell_type": "code",
   "execution_count": 19,
   "id": "1ca6fc06",
   "metadata": {},
   "outputs": [
    {
     "data": {
      "text/plain": [
       "2"
      ]
     },
     "execution_count": 19,
     "metadata": {},
     "output_type": "execute_result"
    }
   ],
   "source": [
    "x=df[['X']]\n",
    "y=df[['Y']]\n",
    "x.ndim"
   ]
  },
  {
   "cell_type": "code",
   "execution_count": 20,
   "id": "cc6c97b6",
   "metadata": {},
   "outputs": [],
   "source": [
    "#x1 = np.reshape(x,(-1,1))\n",
    "#y1 = np.reshape(y,(-1,1))\n",
    "#x1.ndim"
   ]
  },
  {
   "cell_type": "code",
   "execution_count": 21,
   "id": "7a262eb0",
   "metadata": {},
   "outputs": [],
   "source": [
    "x_train,x_test,y_train,y_test = train_test_split(x,y,test_size=0.2,random_state=1)"
   ]
  },
  {
   "cell_type": "code",
   "execution_count": 22,
   "id": "bbcebe44",
   "metadata": {},
   "outputs": [],
   "source": [
    "model = LinearRegression()\n"
   ]
  },
  {
   "cell_type": "code",
   "execution_count": 23,
   "id": "e1392379",
   "metadata": {},
   "outputs": [],
   "source": [
    "#x1 = np.reshape(x,(-1,1))\n",
    "#y1 = np.reshape(y,(-1,1))\n",
    "#x1.ndim"
   ]
  },
  {
   "cell_type": "code",
   "execution_count": 24,
   "id": "7baef9e2",
   "metadata": {},
   "outputs": [
    {
     "data": {
      "text/plain": [
       "LinearRegression()"
      ]
     },
     "execution_count": 24,
     "metadata": {},
     "output_type": "execute_result"
    }
   ],
   "source": [
    "model.fit(x,y)"
   ]
  },
  {
   "cell_type": "code",
   "execution_count": 25,
   "id": "c5b0f890",
   "metadata": {},
   "outputs": [],
   "source": [
    "#x_test1 = np.reshape(x_test,(-1,1))"
   ]
  },
  {
   "cell_type": "code",
   "execution_count": 26,
   "id": "78f1496c",
   "metadata": {},
   "outputs": [
    {
     "data": {
      "text/plain": [
       "array([[27.4036072 ],\n",
       "       [35.13483025],\n",
       "       [39.96684466],\n",
       "       [38.0340389 ],\n",
       "       [ 3.24353517],\n",
       "       [ 4.20993806],\n",
       "       [47.69806771],\n",
       "       [29.33641297],\n",
       "       [45.76526194],\n",
       "       [31.26921873]])"
      ]
     },
     "execution_count": 26,
     "metadata": {},
     "output_type": "execute_result"
    }
   ],
   "source": [
    "y_p = model.predict(x_test)\n",
    "y_p"
   ]
  },
  {
   "cell_type": "code",
   "execution_count": 27,
   "id": "30e4391d",
   "metadata": {},
   "outputs": [
    {
     "data": {
      "text/html": [
       "<div>\n",
       "<style scoped>\n",
       "    .dataframe tbody tr th:only-of-type {\n",
       "        vertical-align: middle;\n",
       "    }\n",
       "\n",
       "    .dataframe tbody tr th {\n",
       "        vertical-align: top;\n",
       "    }\n",
       "\n",
       "    .dataframe thead th {\n",
       "        text-align: right;\n",
       "    }\n",
       "</style>\n",
       "<table border=\"1\" class=\"dataframe\">\n",
       "  <thead>\n",
       "    <tr style=\"text-align: right;\">\n",
       "      <th></th>\n",
       "      <th>By calculation</th>\n",
       "      <th>By sklearn</th>\n",
       "    </tr>\n",
       "  </thead>\n",
       "  <tbody>\n",
       "    <tr>\n",
       "      <th>0</th>\n",
       "      <td>0.344327</td>\n",
       "      <td>[0.3443265306122463]</td>\n",
       "    </tr>\n",
       "  </tbody>\n",
       "</table>\n",
       "</div>"
      ],
      "text/plain": [
       "   By calculation            By sklearn\n",
       "0        0.344327  [0.3443265306122463]"
      ]
     },
     "execution_count": 27,
     "metadata": {},
     "output_type": "execute_result"
    }
   ],
   "source": [
    "#comparison intercept \n",
    "bysk = model.intercept_\n",
    "intercept =[[newC,bysk]]\n",
    "pd.DataFrame(intercept ,columns=['By calculation','By sklearn'])"
   ]
  },
  {
   "cell_type": "code",
   "execution_count": 28,
   "id": "61e0a1e9",
   "metadata": {},
   "outputs": [],
   "source": [
    "from sklearn.metrics import mean_squared_error"
   ]
  },
  {
   "cell_type": "code",
   "execution_count": 29,
   "id": "e8b42e18",
   "metadata": {},
   "outputs": [
    {
     "data": {
      "text/plain": [
       "13.261605219009763"
      ]
     },
     "execution_count": 29,
     "metadata": {},
     "output_type": "execute_result"
    }
   ],
   "source": [
    "mse_sklearn = mean_squared_error(y_test,y_p)\n",
    "mse_sklearn"
   ]
  },
  {
   "cell_type": "code",
   "execution_count": 30,
   "id": "40a1a4b3",
   "metadata": {},
   "outputs": [
    {
     "data": {
      "text/html": [
       "<div>\n",
       "<style scoped>\n",
       "    .dataframe tbody tr th:only-of-type {\n",
       "        vertical-align: middle;\n",
       "    }\n",
       "\n",
       "    .dataframe tbody tr th {\n",
       "        vertical-align: top;\n",
       "    }\n",
       "\n",
       "    .dataframe thead th {\n",
       "        text-align: right;\n",
       "    }\n",
       "</style>\n",
       "<table border=\"1\" class=\"dataframe\">\n",
       "  <thead>\n",
       "    <tr style=\"text-align: right;\">\n",
       "      <th></th>\n",
       "      <th>By calculation</th>\n",
       "      <th>By sklearn</th>\n",
       "    </tr>\n",
       "  </thead>\n",
       "  <tbody>\n",
       "    <tr>\n",
       "      <th>0</th>\n",
       "      <td>16.626978</td>\n",
       "      <td>13.261605</td>\n",
       "    </tr>\n",
       "  </tbody>\n",
       "</table>\n",
       "</div>"
      ],
      "text/plain": [
       "   By calculation  By sklearn\n",
       "0       16.626978   13.261605"
      ]
     },
     "execution_count": 30,
     "metadata": {},
     "output_type": "execute_result"
    }
   ],
   "source": [
    "lis=[[MSE,mse_sklearn]]\n",
    "pd.DataFrame(lis,columns=['By calculation','By sklearn'])"
   ]
  },
  {
   "cell_type": "code",
   "execution_count": null,
   "id": "1f366d70",
   "metadata": {},
   "outputs": [],
   "source": []
  }
 ],
 "metadata": {
  "kernelspec": {
   "display_name": "Python 3 (ipykernel)",
   "language": "python",
   "name": "python3"
  },
  "language_info": {
   "codemirror_mode": {
    "name": "ipython",
    "version": 3
   },
   "file_extension": ".py",
   "mimetype": "text/x-python",
   "name": "python",
   "nbconvert_exporter": "python",
   "pygments_lexer": "ipython3",
   "version": "3.9.7"
  }
 },
 "nbformat": 4,
 "nbformat_minor": 5
}
